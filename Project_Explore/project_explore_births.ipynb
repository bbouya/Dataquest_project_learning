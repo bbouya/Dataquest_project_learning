{
 "cells": [
  {
   "cell_type": "code",
   "execution_count": null,
   "metadata": {},
   "outputs": [],
   "source": []
  }
 ],
 "metadata": {
  "kernelspec": {
   "display_name": "Python 3.7.11 ('base')",
   "language": "python",
   "name": "python3"
  },
  "language_info": {
   "name": "python",
   "version": "3.7.11"
  },
  "orig_nbformat": 4,
  "vscode": {
   "interpreter": {
    "hash": "94dc46af9b17fe292079f93718a975e6c4205e7f5d17a1a04dafe45744521aba"
   }
  }
 },
 "nbformat": 4,
 "nbformat_minor": 2
}
