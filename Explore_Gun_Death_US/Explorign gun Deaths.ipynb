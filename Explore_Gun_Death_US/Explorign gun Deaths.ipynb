{
 "cells": [
  {
   "cell_type": "code",
   "execution_count": 1,
   "metadata": {},
   "outputs": [
    {
     "data": {
      "text/plain": [
       "[['',\n",
       "  'year',\n",
       "  'month',\n",
       "  'intent',\n",
       "  'police',\n",
       "  'sex',\n",
       "  'age',\n",
       "  'race',\n",
       "  'hispanic',\n",
       "  'place',\n",
       "  'education'],\n",
       " ['1',\n",
       "  '2012',\n",
       "  '01',\n",
       "  'Suicide',\n",
       "  '0',\n",
       "  'M',\n",
       "  '34',\n",
       "  'Asian/Pacific Islander',\n",
       "  '100',\n",
       "  'Home',\n",
       "  '4'],\n",
       " ['2', '2012', '01', 'Suicide', '0', 'F', '21', 'White', '100', 'Street', '3']]"
      ]
     },
     "execution_count": 1,
     "metadata": {},
     "output_type": "execute_result"
    }
   ],
   "source": [
    "# Converts the csv files into a list of lists\n",
    "import csv\n",
    "file = open('guns.csv','r')\n",
    "temp = csv.reader(file)\n",
    "data = list(temp)\n",
    "data[0:3]"
   ]
  },
  {
   "cell_type": "markdown",
   "metadata": {},
   "source": [
    "The csv module didn't remove the headers for us, but it did convert the file into a list of lists which is the format we are looking for, we can use a list slicing techniques remove the header and store it as a seperate variable (headers)."
   ]
  },
  {
   "cell_type": "code",
   "execution_count": 3,
   "metadata": {},
   "outputs": [
    {
     "name": "stdout",
     "output_type": "stream",
     "text": [
      "[['1', '2012', '01', 'Suicide', '0', 'M', '34', 'Asian/Pacific Islander', '100', 'Home', '4']]\n",
      "----------\n",
      "[['2', '2012', '01', 'Suicide', '0', 'F', '21', 'White', '100', 'Street', '3'], ['3', '2012', '01', 'Suicide', '0', 'M', '60', 'White', '100', 'Other specified', '4'], ['4', '2012', '02', 'Suicide', '0', 'M', '64', 'White', '100', 'Home', '4'], ['5', '2012', '02', 'Suicide', '0', 'M', '31', 'White', '100', 'Other specified', '2'], ['6', '2012', '02', 'Suicide', '0', 'M', '17', 'Native American/Native Alaskan', '100', 'Home', '1']]\n"
     ]
    }
   ],
   "source": [
    "# We separete the header from the body data\n",
    "headers = data[0:1]\n",
    "data = data[1:]\n",
    "print(headers)\n",
    "print('-'*10)\n",
    "print(data[0:5])"
   ]
  },
  {
   "cell_type": "code",
   "execution_count": 4,
   "metadata": {},
   "outputs": [
    {
     "name": "stdout",
     "output_type": "stream",
     "text": [
      "['2012', '2012', '2012', '2012', '2012', '2012', '2012', '2012', '2012', '2012']\n"
     ]
    }
   ],
   "source": [
    "# Extract the 'year' column form the list of lists\n",
    "years = [row[1] for row in data]\n",
    "print(years[0:10])"
   ]
  },
  {
   "cell_type": "code",
   "execution_count": 5,
   "metadata": {},
   "outputs": [
    {
     "data": {
      "text/plain": [
       "{'2012': 33562, '2013': 33636, '2014': 33599}"
      ]
     },
     "execution_count": 5,
     "metadata": {},
     "output_type": "execute_result"
    }
   ],
   "source": [
    "year_counts = {}\n",
    "for i in years:\n",
    "    if i in year_counts:\n",
    "        year_counts[i] +=1\n",
    "    else:\n",
    "        year_counts[i] = 1\n",
    "year_counts"
   ]
  },
  {
   "cell_type": "markdown",
   "metadata": {},
   "source": [
    "It looks like the number of deaths from 2012 to 2014 are relatively close to each other.\n",
    "Let's break it down even more, we want to look at each year and calculate the total number of gun deaths, Right now the year and month columns are in the string format, we can create a new dictionary and populate it with the month of each year as the key.\n"
   ]
  },
  {
   "cell_type": "code",
   "execution_count": 8,
   "metadata": {},
   "outputs": [
    {
     "data": {
      "text/plain": [
       "{datetime.datetime(2012, 1, 1, 0, 0): 2757,\n",
       " datetime.datetime(2012, 2, 1, 0, 0): 2357,\n",
       " datetime.datetime(2012, 3, 1, 0, 0): 2743,\n",
       " datetime.datetime(2012, 4, 1, 0, 0): 2795,\n",
       " datetime.datetime(2012, 5, 1, 0, 0): 2999,\n",
       " datetime.datetime(2012, 6, 1, 0, 0): 2826,\n",
       " datetime.datetime(2012, 7, 1, 0, 0): 3026,\n",
       " datetime.datetime(2012, 8, 1, 0, 0): 2954,\n",
       " datetime.datetime(2012, 9, 1, 0, 0): 2852,\n",
       " datetime.datetime(2012, 10, 1, 0, 0): 2733,\n",
       " datetime.datetime(2012, 11, 1, 0, 0): 2729,\n",
       " datetime.datetime(2012, 12, 1, 0, 0): 2791,\n",
       " datetime.datetime(2013, 1, 1, 0, 0): 2864,\n",
       " datetime.datetime(2013, 2, 1, 0, 0): 2375,\n",
       " datetime.datetime(2013, 3, 1, 0, 0): 2862,\n",
       " datetime.datetime(2013, 4, 1, 0, 0): 2798,\n",
       " datetime.datetime(2013, 5, 1, 0, 0): 2806,\n",
       " datetime.datetime(2013, 6, 1, 0, 0): 2920,\n",
       " datetime.datetime(2013, 7, 1, 0, 0): 3079,\n",
       " datetime.datetime(2013, 8, 1, 0, 0): 2859,\n",
       " datetime.datetime(2013, 9, 1, 0, 0): 2742,\n",
       " datetime.datetime(2013, 10, 1, 0, 0): 2808,\n",
       " datetime.datetime(2013, 11, 1, 0, 0): 2758,\n",
       " datetime.datetime(2013, 12, 1, 0, 0): 2765,\n",
       " datetime.datetime(2014, 1, 1, 0, 0): 2651,\n",
       " datetime.datetime(2014, 2, 1, 0, 0): 2361,\n",
       " datetime.datetime(2014, 3, 1, 0, 0): 2684,\n",
       " datetime.datetime(2014, 4, 1, 0, 0): 2862,\n",
       " datetime.datetime(2014, 5, 1, 0, 0): 2864,\n",
       " datetime.datetime(2014, 6, 1, 0, 0): 2931,\n",
       " datetime.datetime(2014, 7, 1, 0, 0): 2884,\n",
       " datetime.datetime(2014, 8, 1, 0, 0): 2970,\n",
       " datetime.datetime(2014, 9, 1, 0, 0): 2914,\n",
       " datetime.datetime(2014, 10, 1, 0, 0): 2865,\n",
       " datetime.datetime(2014, 11, 1, 0, 0): 2756,\n",
       " datetime.datetime(2014, 12, 1, 0, 0): 2857}"
      ]
     },
     "execution_count": 8,
     "metadata": {},
     "output_type": "execute_result"
    }
   ],
   "source": [
    "import datetime\n",
    "\n",
    "#The day is not specified in our data, this value will be assignedd as 1.\n",
    "dates = [datetime.datetime(year=int(row[1]), month=int(row[2]), day=1) for row in data]\n",
    "date_counts = {}\n",
    "for i in dates:\n",
    "    if i in date_counts:\n",
    "        date_counts[i] += 1\n",
    "    else:\n",
    "        date_counts[i] = 1\n",
    "date_counts\n"
   ]
  },
  {
   "cell_type": "markdown",
   "metadata": {},
   "source": [
    "We can repeat the process above and break down the data by sex"
   ]
  },
  {
   "cell_type": "code",
   "execution_count": 9,
   "metadata": {},
   "outputs": [
    {
     "name": "stdout",
     "output_type": "stream",
     "text": [
      "{'F': 14449, 'M': 86348}\n"
     ]
    }
   ],
   "source": [
    "sex = [row[5] for row in data]\n",
    "sex_counts = {}\n",
    "for i in sex:\n",
    "    if i in sex_counts:\n",
    "        sex_counts[i] += 1\n",
    "    else:\n",
    "        sex_counts[i] = 1\n",
    "print(sex_counts)"
   ]
  },
  {
   "cell_type": "markdown",
   "metadata": {},
   "source": [
    "It looks like there are significantly more males gun deaths than females.\n",
    "we use the similar for loop to break down the data by race.\n"
   ]
  },
  {
   "cell_type": "code",
   "execution_count": 10,
   "metadata": {},
   "outputs": [
    {
     "data": {
      "text/plain": [
       "{'White': 66237,\n",
       " 'Native American/Native Alaskan': 917,\n",
       " 'Black': 23296,\n",
       " 'Asian/Pacific Islander': 1325,\n",
       " 'Hispanic': 9022}"
      ]
     },
     "execution_count": 10,
     "metadata": {},
     "output_type": "execute_result"
    }
   ],
   "source": [
    "race = [row[7] for row in data]\n",
    "race_counts = {}\n",
    "for i in race:\n",
    "    if i in race_counts:\n",
    "        race_counts[i] += 1\n",
    "    else:\n",
    "        race_counts[i] = 1\n",
    "race_counts"
   ]
  },
  {
   "cell_type": "markdown",
   "metadata": {},
   "source": [
    "It looke like withe have highest total number of gun deaths. However, there are significantly higher number of whites in the US than all the other groups, we need population data that can give us the total population of each race.\n",
    "we will need to look at census data 'census.csv'"
   ]
  },
  {
   "cell_type": "code",
   "execution_count": 11,
   "metadata": {},
   "outputs": [
    {
     "data": {
      "text/plain": [
       "[['Id',\n",
       "  'Year',\n",
       "  'Id',\n",
       "  'Sex',\n",
       "  'Id',\n",
       "  'Hispanic Origin',\n",
       "  'Id',\n",
       "  'Id2',\n",
       "  'Geography',\n",
       "  'Total',\n",
       "  'Race Alone - White',\n",
       "  'Race Alone - Hispanic',\n",
       "  'Race Alone - Black or African American',\n",
       "  'Race Alone - American Indian and Alaska Native',\n",
       "  'Race Alone - Asian',\n",
       "  'Race Alone - Native Hawaiian and Other Pacific Islander',\n",
       "  'Two or More Races'],\n",
       " ['cen42010',\n",
       "  'April 1, 2010 Census',\n",
       "  'totsex',\n",
       "  'Both Sexes',\n",
       "  'tothisp',\n",
       "  'Total',\n",
       "  '0100000US',\n",
       "  '',\n",
       "  'United States',\n",
       "  '308745538',\n",
       "  '197318956',\n",
       "  '44618105',\n",
       "  '40250635',\n",
       "  '3739506',\n",
       "  '15159516',\n",
       "  '674625',\n",
       "  '6984195']]"
      ]
     },
     "execution_count": 11,
     "metadata": {},
     "output_type": "execute_result"
    }
   ],
   "source": [
    "f2 = open('census.csv','r')\n",
    "temp2 = csv.reader(f2)\n",
    "census = list(temp2)\n",
    "census[0:3]"
   ]
  },
  {
   "cell_type": "markdown",
   "metadata": {},
   "source": [
    "We are going to create a dictionary of the total population of each race, we will have to create it this dictionary with each race as the key and the rate of gun deaths per 100.000 people."
   ]
  },
  {
   "cell_type": "code",
   "execution_count": 12,
   "metadata": {},
   "outputs": [
    {
     "data": {
      "text/plain": [
       "{'White': 33.56849303419181,\n",
       " 'Native American/Native Alaskan': 6.049005786200562,\n",
       " 'Black': 52.21198883278436,\n",
       " 'Asian/Pacific Islander': 17.300315192157537,\n",
       " 'Hispanic': 20.220491210910907}"
      ]
     },
     "execution_count": 12,
     "metadata": {},
     "output_type": "execute_result"
    }
   ],
   "source": [
    "mapping = {}\n",
    "mapping['Asian/Pacific Islander'] = 674625+6984195\n",
    "mapping['Black'] = 44618105\n",
    "mapping['Hispanic'] = 44618105\n",
    "mapping['Native American/Native Alaskan'] = 15159516\n",
    "mapping['White'] = 197318956\n",
    "\n",
    "race_per_hundredk = {}\n",
    "#We can iterate both the key and the value in a dictionary using .items()\n",
    "for key, value in (race_counts.items()):    \n",
    "    race_per_hundredk[key] = value*100000/mapping[key]\n",
    "race_per_hundredk"
   ]
  },
  {
   "cell_type": "markdown",
   "metadata": {},
   "source": [
    "It looks like blacks have the highest rate of gun deaths, let's look filter the further and look at the rate of gun deaths by homocide.\n"
   ]
  },
  {
   "cell_type": "code",
   "execution_count": 15,
   "metadata": {},
   "outputs": [
    {
     "data": {
      "text/plain": [
       "{'White': 9147,\n",
       " 'Asian/Pacific Islander': 559,\n",
       " 'Black': 19510,\n",
       " 'Native American/Native Alaskan': 326,\n",
       " 'Hispanic': 5634}"
      ]
     },
     "execution_count": 15,
     "metadata": {},
     "output_type": "execute_result"
    }
   ],
   "source": [
    "intent = [row[3] for row in data]\n",
    "\n",
    "races = [row[7] for row in data]\n",
    "homicide_race_counts = {}\n",
    "#We can iterate over both the index and the element in the list using the enumerate() function\n",
    "for i, rac in enumerate(races):\n",
    "    if intent[i] == 'Homicide':\n",
    "        if rac in homicide_race_counts:\n",
    "            homicide_race_counts[rac] += 1\n",
    "        else:\n",
    "            homicide_race_counts[rac] = 1\n",
    "            \n",
    "homicide_race_counts"
   ]
  },
  {
   "cell_type": "code",
   "execution_count": 16,
   "metadata": {},
   "outputs": [
    {
     "data": {
      "text/plain": [
       "{'White': 4.6356417981453335,\n",
       " 'Asian/Pacific Islander': 7.298774484842313,\n",
       " 'Black': 43.7266441503959,\n",
       " 'Native American/Native Alaskan': 2.1504644343526533,\n",
       " 'Hispanic': 12.627161104219912}"
      ]
     },
     "execution_count": 16,
     "metadata": {},
     "output_type": "execute_result"
    }
   ],
   "source": [
    "homocide_race_per_hadredk = {}\n",
    "for key, value in (homicide_race_counts.items()):\n",
    "    homocide_race_per_hadredk[key] = value*100000/mapping[key]\n",
    "\n",
    "homocide_race_per_hadredk\n"
   ]
  },
  {
   "cell_type": "markdown",
   "metadata": {},
   "source": [
    "It appears that the rate of gun deaths by homocides is the highest in the black and haspanic racial categories."
   ]
  },
  {
   "cell_type": "markdown",
   "metadata": {},
   "source": []
  },
  {
   "cell_type": "code",
   "execution_count": null,
   "metadata": {},
   "outputs": [],
   "source": []
  }
 ],
 "metadata": {
  "kernelspec": {
   "display_name": "Python 3.7.11 ('base')",
   "language": "python",
   "name": "python3"
  },
  "language_info": {
   "codemirror_mode": {
    "name": "ipython",
    "version": 3
   },
   "file_extension": ".py",
   "mimetype": "text/x-python",
   "name": "python",
   "nbconvert_exporter": "python",
   "pygments_lexer": "ipython3",
   "version": "3.7.11"
  },
  "orig_nbformat": 4,
  "vscode": {
   "interpreter": {
    "hash": "94dc46af9b17fe292079f93718a975e6c4205e7f5d17a1a04dafe45744521aba"
   }
  }
 },
 "nbformat": 4,
 "nbformat_minor": 2
}
